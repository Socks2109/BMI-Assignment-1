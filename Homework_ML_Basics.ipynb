{
  "cells": [
    {
      "cell_type": "markdown",
      "metadata": {
        "id": "aRP_CNMFt8tj"
      },
      "source": [
        "\n",
        "# Homework: Implementing simple learning algorithms\n",
        "\n",
        "\n",
        "> **Due Date: February 5th, 2025 by 1 pm**\n",
        ">\n",
        "> Please turn in this completed notebook as an attachment or as a shared link to clay.smyth@ucsf.edu\n",
        "\n",
        "**Collaboration policy and more**\n",
        "\n",
        "You're welcome (and highly encouraged) to work with and discuss this homework assignment with others in the class, and feel free to use any resources (textbooks, online notebooks, etc). The only requirement is that the final notebook that you turn in must be your own written work (no copy and pasting, please).\n",
        "\n",
        "**Overview**\n",
        "\n"
      ]
    },
    {
      "cell_type": "markdown",
      "metadata": {
        "id": "8-W1WUs-uSdz"
      },
      "source": [
        "## Before you get started\n",
        "\n",
        "**1) How to run this notebook**\n",
        "\n",
        "This Jupyter Notebook can be used in two ways:\n",
        "* *Option 1: Download the notebook*\n",
        "\n",
        "  We've included all the imports necessary for this homework. Please make sure you're running Python 3 with PyTorch (and Torchvision) installed and ready to go, along with NumPy and Matplotlib. Although you might find that these models train a bit faster on GPU, this homework assignment should be doable on most modern laptops. If you're having trouble please let us know ASAP.\n",
        "\n",
        "* *Option 2: Run it online on Google Colaboratory*\n",
        "\n",
        "  - Colab gives access to a GPU, so it could be useful in case you don't have CUDA installed on your computer (**Note: you can use this as an opportunity to get started on GPU training, but we recommend you develop your model and make sure everything works on CPU first**)\n",
        "  - Make a copy of this notebook in your Google Drive folder: \"File\" -> \"Save a copy in Drive...\"\n",
        "  - By default, Colab does not make GPUs available, but you can easily access them by selecting GPU in \"Runtime\" -> \"Change runtime type...\"\n",
        "  - Remember that Colab runs in a temporary virtual machine, so all the data created while running the notebook will be lost at the end of the session, or when the runtime disconnects due to inactivity. To preserve data between sessions, there are a couple of options:\n",
        "    * you can link Colab to your personal Google Drive by mounting it on your runtime, see first cell below.\n",
        "    * you can download/upload files from the Files tab on the right sidebar.\n",
        "\n",
        "**3) How to complete this assignment**\n",
        "\n",
        "  - Fill out the relevant code blocks as indicated\n",
        "  - Answer questions by writing them directly in the text block. Please keep your written answers concise, most are meant to be answered in a sentence or two.\n",
        "  - Make figures showing your results and add comments with your observations.\n",
        "  - Some code is provided for you. Feel free to amend provided code as necessary to complete the assignment. Your implementation for specific portions may require changes to the provided code, which is OK.\n",
        "\n",
        "***Let's start!***\n",
        "\n",
        "---"
      ]
    },
    {
      "cell_type": "markdown",
      "metadata": {
        "id": "fzyVPwhkMWk3"
      },
      "source": [
        "The following command can be used to mount your personal Google Drive folder on the temporary virtual machine, so you can recover data between sessions (follow the instructions, you'll need an authorization code). Additional info [here](https://colab.research.google.com/notebooks/io.ipynb#scrollTo=u22w3BFiOveA).\n"
      ]
    },
    {
      "cell_type": "code",
      "execution_count": 1,
      "metadata": {
        "id": "STvHSt3zICjF"
      },
      "outputs": [],
      "source": [
        "# # Skip this cell if running locally\n",
        "# from google.colab import drive\n",
        "# drive.mount('/content/gdrive')"
      ]
    },
    {
      "cell_type": "code",
      "execution_count": 2,
      "metadata": {
        "id": "OyDaEPTr4YNP"
      },
      "outputs": [],
      "source": [
        "# Import all the necessary libraries\n",
        "import numpy as np\n",
        "from matplotlib import pyplot as plt\n",
        "from scipy import stats\n",
        "\n",
        "# %matplotlib inline\n",
        "\n",
        "# from IPython.display import Image, display\n",
        "\n",
        "import torch\n",
        "import torch.nn as nn\n",
        "import torch.nn.functional as F\n",
        "import torch.optim as optim\n",
        "from torch.utils.data import random_split, TensorDataset, DataLoader"
      ]
    },
    {
      "cell_type": "markdown",
      "metadata": {
        "id": "MBrzn_tnFKsM"
      },
      "source": [
        "> **Question 0) Why is it important to set the seed for the random number generator?**\n",
        "\n",
        "To ensure reproducibility of the models by standardizing the randomness of the data.\n",
        "\n"
      ]
    },
    {
      "cell_type": "code",
      "execution_count": 3,
      "metadata": {
        "id": "Hjtsq8Zi4sTS"
      },
      "outputs": [],
      "source": [
        "random_seed = 50 # Feel free to pick your favorite number\n",
        "np.random.seed(random_seed)"
      ]
    },
    {
      "cell_type": "markdown",
      "metadata": {
        "id": "QG7jERid51-b"
      },
      "source": [
        "### 1. **Simple Regression Task Setup**\n",
        "\n",
        "We will begin this homework by using gradient descent to accomplish a single-variate regression task.\n",
        "\n",
        "Regression is a statistical technique for estimating one (dependent) variable from one, or more, other (independent) variables. Here, we will use basic machine learning methodologies to estimate an affine relationship between two variables.\n",
        "\n",
        "Recall the equation of a line:\n",
        "\n",
        "\n",
        "\n"
      ]
    },
    {
      "cell_type": "markdown",
      "metadata": {
        "id": "AMcdPkZS76El"
      },
      "source": [
        "$$\n",
        "y = mx + b\n",
        "$$\n",
        "\n"
      ]
    },
    {
      "cell_type": "markdown",
      "metadata": {
        "id": "tBaCxhwv8oEV"
      },
      "source": [
        "We would like to reformulate this equation into linear alegebra notation, which can be accomplished with the following:"
      ]
    },
    {
      "cell_type": "markdown",
      "metadata": {
        "id": "w3LU1Odz8zKH"
      },
      "source": [
        "$$\n",
        "y = \\begin{bmatrix}\n",
        "m & b\n",
        "\\end{bmatrix}\n",
        "\\begin{bmatrix}\n",
        "x \\\\\n",
        "1\n",
        "\\end{bmatrix}\n",
        "$$"
      ]
    },
    {
      "cell_type": "markdown",
      "metadata": {
        "id": "vFAYocBq--xB"
      },
      "source": [
        "\n",
        "\n",
        "> **Question 1a) What variables in the above equation are the weights we would like to learn?**\n",
        "\n",
        "gradient (m) and bias (b)\n",
        "\n"
      ]
    },
    {
      "cell_type": "markdown",
      "metadata": {
        "id": "uEV36HVDk2l3"
      },
      "source": [
        "> **Question 1b) Draw the regression task in the form of a neural network.**\n",
        "\n",
        "Because our regression task is a matrix multiplication followed by an activation function (the identity function), it can be formulated as a very simple artificial neural network with no hidden layers. Attempt to draw the network diagram of our regression task. Feel free to embed an image.\n",
        "\n",
        "![ANN](1.png \"Simple ANN\")"
      ]
    },
    {
      "cell_type": "markdown",
      "metadata": {
        "id": "r8EreCtP_Pkv"
      },
      "source": [
        "Let's begin.\n",
        "\n",
        "First, let's create a random line that we would like to estimate."
      ]
    },
    {
      "cell_type": "code",
      "execution_count": 4,
      "metadata": {
        "id": "EKHGshj3_O0B"
      },
      "outputs": [
        {
          "name": "stdout",
          "output_type": "stream",
          "text": [
            "Line parameters: m=1, b=1\n",
            "\n"
          ]
        },
        {
          "data": {
            "text/plain": [
              "[<matplotlib.lines.Line2D at 0x207bcc9d4f0>]"
            ]
          },
          "execution_count": 4,
          "metadata": {},
          "output_type": "execute_result"
        },
        {
          "data": {
            "image/png": "[encoded data removed]",
            "text/plain": [
              "<Figure size 640x480 with 1 Axes>"
            ]
          },
          "metadata": {},
          "output_type": "display_data"
        }
      ],
      "source": [
        "# Creating random slope and intercept to act as our line parameters\n",
        "m, b = np.random.randint(1, 11), np.random.randint(1, 11)\n",
        "\n",
        "# Generate a set of 100 (X,Y) coordinates that share the relationship y=mx+b\n",
        "x = np.random.randint(1,101, size=100)\n",
        "y = m * x + b\n",
        "print(f\"Line parameters: m={m}, b={b}\")\n",
        "print(\"\")\n",
        "\n",
        "# Plot the (X,Y) points as a line plot using matplotlib\n",
        "plt.plot(x, y, label='Line Plot', color='blue', marker='o')"
      ]
    },
    {
      "cell_type": "markdown",
      "metadata": {
        "id": "REbMzSTIEf_X"
      },
      "source": [
        "Data is always messy. Let's add some noise to our Y vector to resemble a dataset which we \"measured\" from the real world, and visualize the new results."
      ]
    },
    {
      "cell_type": "code",
      "execution_count": 5,
      "metadata": {
        "id": "mK4PfEbDALSu"
      },
      "outputs": [
        {
          "data": {
            "text/plain": [
              "<matplotlib.collections.PathCollection at 0x207bee2d3d0>"
            ]
          },
          "execution_count": 5,
          "metadata": {},
          "output_type": "execute_result"
        },
        {
          "data": {
            "image/png": "[encoded data removed]",
            "text/plain": [
              "<Figure size 640x480 with 1 Axes>"
            ]
          },
          "metadata": {},
          "output_type": "display_data"
        }
      ],
      "source": [
        "# Add noise to our y-vector\n",
        "mu, sigma = 0, 15\n",
        "noise_vector = np.random.normal(mu, sigma, 100)\n",
        "y_measured = y + noise_vector\n",
        "\n",
        "# Plot the (X,Y) points as a scatter plot using matplotlib\n",
        "plt.scatter(x, y_measured, label='Line Plot', color='blue', marker='o')"
      ]
    },
    {
      "cell_type": "markdown",
      "metadata": {
        "id": "Xd47zpRoGODt"
      },
      "source": [
        "Now, we would like to estimate the line parameters which best fit our noisy, observed data. We will accomplish this by starting with random weights and updating those weights using gradient descent. We also need to define how \"bad\" our model is with a loss function.\n",
        "\n"
      ]
    },
    {
      "cell_type": "code",
      "execution_count": 6,
      "metadata": {
        "id": "jmEyt2bjIn_j"
      },
      "outputs": [],
      "source": [
        "# Initialize random model weights\n",
        "def initialize_model(num_weights=2):\n",
        "  weights = []\n",
        "  for i in range(num_weights):\n",
        "    weights.append(np.random.randint(1, 11)) # Only select integers between 1-10.\n",
        "  return np.array(weights)"
      ]
    },
    {
      "cell_type": "code",
      "execution_count": 7,
      "metadata": {
        "id": "mcBbH-XXv1zq"
      },
      "outputs": [
        {
          "name": "stdout",
          "output_type": "stream",
          "text": [
            "Random Weights: m=6, b=1\n"
          ]
        }
      ],
      "source": [
        "weights = initialize_model() # Includes bias term\n",
        "print(f\"Random Weights: m={weights[0]}, b={weights[1]}\")"
      ]
    },
    {
      "cell_type": "code",
      "execution_count": 8,
      "metadata": {
        "id": "TDD_5wVCQw1h"
      },
      "outputs": [],
      "source": [
        "# Define your prediction function. This function should return a vector of size x, predicting the y-values.\n",
        "def predict(weights, x):\n",
        "  # Hint, it should be the equation of the line from above. Remember to include the bias term for the data points.\n",
        "  # For an added challenge: Try to use matrix multiplication, and avoid for loops.\n",
        "  y = np.dot(weights[0], x) + weights[1]\n",
        "\n",
        "  return y"
      ]
    },
    {
      "cell_type": "markdown",
      "metadata": {
        "id": "rW89Hb_aiiQ-"
      },
      "source": [
        "Let's visualize our untrained model's predictions alongside our target data (y_measured)."
      ]
    },
    {
      "cell_type": "code",
      "execution_count": 9,
      "metadata": {
        "id": "ssp1v1Initks"
      },
      "outputs": [
        {
          "data": {
            "text/plain": [
              "<matplotlib.collections.PathCollection at 0x207beebfd10>"
            ]
          },
          "execution_count": 9,
          "metadata": {},
          "output_type": "execute_result"
        },
        {
          "data": {
            "image/png": "[encoded data removed]",
            "text/plain": [
              "<Figure size 640x480 with 1 Axes>"
            ]
          },
          "metadata": {},
          "output_type": "display_data"
        }
      ],
      "source": [
        "plt.scatter(x, y_measured, label='Line Plot', color='blue', marker='o')\n",
        "plt.scatter(x, predict(weights, x), color='orange', marker='+')"
      ]
    },
    {
      "cell_type": "markdown",
      "metadata": {
        "id": "xpEDY9QUjHkX"
      },
      "source": [
        "Next, we need to define a loss function to quantify how \"bad\" our current model is at predicting our desired data points."
      ]
    },
    {
      "cell_type": "markdown",
      "metadata": {
        "id": "WdsMnI74jGYi"
      },
      "source": [
        "\n",
        "> **Question 1c) What would be a reasonable loss function for our model and observations?**\n",
        "\n",
        "Mean squared error"
      ]
    },
    {
      "cell_type": "code",
      "execution_count": 10,
      "metadata": {
        "id": "BMe34WtMIOfr"
      },
      "outputs": [],
      "source": [
        "# Define loss function\n",
        "def loss(predictions, targets):\n",
        "  # Write loss function\n",
        "  # Student's should likely implement mean-squared error loss\n",
        "\n",
        "  MSE = np.mean(np.square(targets - predictions))\n",
        "\n",
        "  return MSE"
      ]
    },
    {
      "cell_type": "markdown",
      "metadata": {
        "id": "jLfi3aAKPmu3"
      },
      "source": [
        "Let's see the loss of your untrained model.\n"
      ]
    },
    {
      "cell_type": "code",
      "execution_count": 11,
      "metadata": {
        "id": "EUr-Ebx6PkCk"
      },
      "outputs": [
        {
          "name": "stdout",
          "output_type": "stream",
          "text": [
            "76729.54878832931\n"
          ]
        }
      ],
      "source": [
        "predictions = predict(weights, x)\n",
        "print(loss(predictions, y_measured))"
      ]
    },
    {
      "cell_type": "markdown",
      "metadata": {
        "id": "ncDEvkcKjXmp"
      },
      "source": [
        "Not great! We'll do better after training."
      ]
    },
    {
      "cell_type": "markdown",
      "metadata": {
        "id": "92xo-8WrUMLT"
      },
      "source": [
        "### 2. **Training our Regression**\n",
        "\n",
        "Now that we have set-up our problem statement, collected data, and defined our model and loss function, we would like to train our model to minimize the loss function. We will accomplish this using gradient descent.\n",
        "\n",
        "Recall that the gradient is the derivative of the loss function with respect to each weight (or parameter) in our model. The gradient takes the form of a vector."
      ]
    },
    {
      "cell_type": "markdown",
      "metadata": {
        "id": "dApjXngIVbe7"
      },
      "source": [
        "> **Question 2a) In a few sentences, describe gradient descent?**\n",
        "\n",
        "It is an optimization algorithm that adjusts specified parameters through minimizing a cost function"
      ]
    },
    {
      "cell_type": "markdown",
      "metadata": {
        "id": "ZU08g_pUYDkF"
      },
      "source": [
        "> **Question 2b) What are the partial derivatives of your loss function with respect to each model parameter?**\n",
        "\n",
        "![partial derivative](2.png \"partial derivative\")"
      ]
    },
    {
      "cell_type": "code",
      "execution_count": 12,
      "metadata": {
        "id": "aM1rYJCHUQ3n"
      },
      "outputs": [],
      "source": [
        "# Implement the gradient function for our regression task.\n",
        "# It should return a vector the same size as the model 'weights' variable.\n",
        "def gradient_func(x, y, predictions):\n",
        "  N = len(x)\n",
        "\n",
        "  par_grad = -(2 / N) * np.sum(np.dot(x, y - predictions))\n",
        "  par_bias = -(2 / N) * np.sum(y - predictions)\n",
        "\n",
        "  return np.array([par_grad, par_bias])"
      ]
    },
    {
      "cell_type": "code",
      "execution_count": 13,
      "metadata": {
        "id": "xbdTDDn9Z_dE"
      },
      "outputs": [],
      "source": [
        "# Implement a \"step\" function, which adjusts the model weights based upon the gradient and step size\n",
        "def take_step(weights, gradient, learning_rate):\n",
        "  # Your code here\n",
        "  weights[0] -= learning_rate * gradient[0]\n",
        "  weights[1] -= learning_rate * gradient[1]\n",
        "\n",
        "  return weights"
      ]
    },
    {
      "cell_type": "code",
      "execution_count": 14,
      "metadata": {
        "id": "hhv2m5N9miQv"
      },
      "outputs": [],
      "source": [
        "# Implement the training loop that utilizes gradient descent.\n",
        "# This function will return the trained model weights and list of loss values\n",
        "def train(x, y_measured, weights, gradient_func, learning_rate, num_steps):\n",
        "\n",
        "  # We will save our losses to plot a loss curve\n",
        "  losses = []\n",
        "\n",
        "  # Your code here\n",
        "  for _ in range(num_steps):\n",
        "    predictions = predict(weights, x)\n",
        "    losses.append(loss(predictions, y_measured))\n",
        "    grad = gradient_func(x, y_measured, predictions)\n",
        "    weights = take_step(weights, grad, learning_rate)\n",
        "\n",
        "  return weights, losses"
      ]
    },
    {
      "cell_type": "code",
      "execution_count": 15,
      "metadata": {
        "id": "AOu4C4cGnKQa"
      },
      "outputs": [],
      "source": [
        "# Define our learning rate (i.e. step size) to use in gradient descent algorithm\n",
        "learning_rate = 1e-5\n",
        "\n",
        "# Define number of steps to take in gradient descent training\n",
        "num_steps = 200\n",
        "\n",
        "# Train our model\n",
        "weights, losses = train(x, y_measured, weights, gradient_func, learning_rate, num_steps)"
      ]
    },
    {
      "cell_type": "markdown",
      "metadata": {
        "id": "ibeSm8c1jzt-"
      },
      "source": [
        "Let's visualize our loss curve and resultant trained model."
      ]
    },
    {
      "cell_type": "code",
      "execution_count": 16,
      "metadata": {
        "id": "nl-Biz8kdqYQ"
      },
      "outputs": [
        {
          "data": {
            "text/plain": [
              "[<matplotlib.lines.Line2D at 0x207beebfdd0>]"
            ]
          },
          "execution_count": 16,
          "metadata": {},
          "output_type": "execute_result"
        },
        {
          "data": {
            "image/png": "[encoded data removed]",
            "text/plain": [
              "<Figure size 640x480 with 1 Axes>"
            ]
          },
          "metadata": {},
          "output_type": "display_data"
        }
      ],
      "source": [
        "# Plot your loss function.\n",
        "plt.plot(np.arange(len(losses)), losses, label='Loss Plot', color='blue')"
      ]
    },
    {
      "cell_type": "code",
      "execution_count": 17,
      "metadata": {
        "id": "hS_LoeLDhFUj"
      },
      "outputs": [
        {
          "data": {
            "text/plain": [
              "<matplotlib.collections.PathCollection at 0x207bcda6ae0>"
            ]
          },
          "execution_count": 17,
          "metadata": {},
          "output_type": "execute_result"
        },
        {
          "data": {
            "image/png": "[encoded data removed]",
            "text/plain": [
              "<Figure size 640x480 with 1 Axes>"
            ]
          },
          "metadata": {},
          "output_type": "display_data"
        }
      ],
      "source": [
        "# Plot the model overlaid on the (x, y_measured) data points\n",
        "plt.scatter(x, y_measured, label='Line Plot', color='blue', marker='o')\n",
        "plt.scatter(x, predict(weights, x), color='orange', marker='+')"
      ]
    },
    {
      "cell_type": "markdown",
      "metadata": {
        "id": "ilJK4CtHL-Do"
      },
      "source": [
        "How close to the actual model parameters are we? You should pass the assertion below."
      ]
    },
    {
      "cell_type": "code",
      "execution_count": 18,
      "metadata": {
        "id": "ywijwwLQMBBp"
      },
      "outputs": [
        {
          "name": "stdout",
          "output_type": "stream",
          "text": [
            "Actual model parameters: m=1, b=1\n",
            "Trained model parameters: m=1, b=0\n"
          ]
        }
      ],
      "source": [
        "print(f\"Actual model parameters: m={m}, b={b}\")\n",
        "print(f\"Trained model parameters: m={weights[0]}, b={weights[1]}\")\n",
        "\n",
        "assert np.isclose(weights[0], m, rtol=0.1)"
      ]
    },
    {
      "cell_type": "markdown",
      "metadata": {
        "id": "BmrRuJnBj3iq"
      },
      "source": [
        "Much better!"
      ]
    },
    {
      "cell_type": "markdown",
      "metadata": {
        "id": "f_U_GlJtj9Us"
      },
      "source": [
        "> **Question 2c) What happens if you increase the learning rate?**\n",
        "\n",
        "You may notice things go awry if the learning rate is too high... describe what is happening below.\n",
        "\n",
        "The gradient descent formula throws an error \"int too big to convert\". This is because instead of converging to the local minima, the formula is now diverging, which makes the weights too large to even be displayed on vscode."
      ]
    },
    {
      "cell_type": "markdown",
      "metadata": {
        "id": "Olufta7Cl7aq"
      },
      "source": [
        "### 3. Reporting Results"
      ]
    },
    {
      "cell_type": "markdown",
      "metadata": {
        "id": "DYafc6JxvMvq"
      },
      "source": [
        "When training a model for classification for regression, we typically do not use the entire dataset for training. It is customary to split the dataset into a training set and test set."
      ]
    },
    {
      "cell_type": "markdown",
      "metadata": {
        "id": "cw1wX5Lbvd2Q"
      },
      "source": [
        "> **Question 3a) Explain why we do not report model results on the training data? What is data leakage?**\n",
        "\n",
        "The model will naturally have a higher accuracy on the training data since the data that is used to train it is the same. It is not that useful of a metric outside of looking at model overfitting values. Data leakage is when data from the test/val set gets leaked into the train set, which would make the model report a higher accuracy when evaluated against the test/val set."
      ]
    },
    {
      "cell_type": "markdown",
      "metadata": {
        "id": "qEQbHcLqv8qJ"
      },
      "source": [
        "In the code cell below, split the data set (x, y_measured) into training and test sets. Train the model on the training set and report your loss on the test set."
      ]
    },
    {
      "cell_type": "code",
      "execution_count": 19,
      "metadata": {
        "id": "v0Oku14MwLha"
      },
      "outputs": [
        {
          "name": "stdout",
          "output_type": "stream",
          "text": [
            "314.46184593449306\n"
          ]
        }
      ],
      "source": [
        "# Split dataset and report results on test set\n",
        "# Your code here...\n",
        "from sklearn.model_selection import train_test_split\n",
        "\n",
        "X_train, X_test, y_train, y_test = train_test_split(\n",
        "    x, y_measured, test_size=0.2, random_state=random_seed)\n",
        "\n",
        "new_weights, losses = train(X_train, y_train, weights, gradient_func, learning_rate, num_steps)\n",
        "\n",
        "predictions = predict(new_weights, X_test)\n",
        "print(loss(predictions, y_test))"
      ]
    },
    {
      "cell_type": "markdown",
      "metadata": {
        "id": "i43h9yjvmcbm"
      },
      "source": [
        "### 4. **N-dimensional Regression**\n",
        "\n",
        "Let's move into a more complex regression task.\n",
        "\n",
        "We will now train an n-dimensional polynomial. The equation of interest is:\n",
        "\n",
        "$$\n",
        "y = w_{n}x^{n} + w_{n-1}x^{n-1} + w_{n-2}x^{n-2} + ... + w_1x + w_0\n",
        "$$\n",
        "\n",
        "Your task is to use Pytorch to train an N-dimensional polynomial regression model. We will essentially follow the steps defined above, but leverage Pytorch's API to accomplish the model training.\n",
        "\n",
        "Succinctly, we need to do the following:\n",
        "\n",
        "\n",
        "1.   Define learning parameters (learning rate, number of gradient steps)\n",
        "2.   Define our model architecture (using pytorch nn module)\n",
        "3.   Define our optimization scheme (using pytorch optim module)\n",
        "4.   Define a training loop (i.e. where gradient descent takes place)\n",
        "5.   Split our dataset into train-test splits\n",
        "6.   Train the model on the training set.\n",
        "7.   Evaluate model on the test set\n",
        "\n"
      ]
    },
    {
      "cell_type": "markdown",
      "metadata": {
        "id": "AW6uKvyX0uvA"
      },
      "source": [
        "> **Question 4a) What is the above equation when reformulated in linear algebra notation? Also, repeat Questions (1a) (1b) and (2b) for this problem statement.**\n",
        "\n",
        "![linear algebra](3.png)"
      ]
    },
    {
      "cell_type": "markdown",
      "metadata": {
        "id": "2RR_ANNsPTsd"
      },
      "source": [
        "First, let's re-establish our data set with a higher degree polynomial."
      ]
    },
    {
      "cell_type": "code",
      "execution_count": 20,
      "metadata": {
        "id": "Qrb7P2rghTpG"
      },
      "outputs": [
        {
          "data": {
            "text/plain": [
              "<matplotlib.collections.PathCollection at 0x207c01af7d0>"
            ]
          },
          "execution_count": 20,
          "metadata": {},
          "output_type": "execute_result"
        },
        {
          "data": {
            "image/png": "[encoded data removed]",
            "text/plain": [
              "<Figure size 640x480 with 1 Axes>"
            ]
          },
          "metadata": {},
          "output_type": "display_data"
        }
      ],
      "source": [
        "# Let's pick the polynomial degree\n",
        "degree = 3 # Choose a number that suites you (Warning: code may become unstable with too high of a polynomial though)\n",
        "num_weights = degree + 1 # Include w_0 (i.e the bias term)\n",
        "\n",
        "# Creating a random model\n",
        "true_weights = initialize_model(num_weights=num_weights) # We are using the intialize_model func to generate a random polynomial\n",
        "\n",
        "# Generate a set of 100 (X,Y) coordinates that share the polynomial relationship\n",
        "num_data_points = 100\n",
        "upper_limit = 500\n",
        "lower_limit = -500\n",
        "x = np.random.randint(lower_limit, upper_limit, size=num_data_points)\n",
        "y = np.sum(np.array([true_weights[i] * x**(degree - i) for i in range(len(true_weights))]), axis=0)\n",
        "\n",
        "# Add noise to our y-vector\n",
        "mu, sigma = 0, upper_limit**degree # We will make the noise commensurate with the polynomial degree\n",
        "noise_vector = np.random.normal(mu, sigma, num_data_points)\n",
        "y_measured = y + noise_vector\n",
        "\n",
        "# Plot the (X,Y) points as a line plot using matplotlib\n",
        "plt.scatter(x, y_measured, color='blue', marker='o')"
      ]
    },
    {
      "cell_type": "markdown",
      "metadata": {
        "id": "jMEfR-MPPZQG"
      },
      "source": [
        "Now, lets create our features (i.e. the polynomial terms)"
      ]
    },
    {
      "cell_type": "code",
      "execution_count": 21,
      "metadata": {
        "id": "ZIi4KKfR9y6B"
      },
      "outputs": [],
      "source": [
        "# Step 0: Transform input vector x to include polynomial terms (1, x, x^2, x^3, .. x^(n-1), x^n)\n",
        "def polynomial_features(x, degree):\n",
        "    # Your code here\n",
        "    result = []\n",
        "    for i in range(1, degree + 1):\n",
        "        result.append(x ** (degree + 1 - i))\n",
        "\n",
        "    result = np.array(result).T\n",
        "    result = np.concat([result, np.ones((result.shape[0], 1))], axis = 1)\n",
        "\n",
        "    return result\n",
        "\n",
        "X_poly = polynomial_features(x, degree)"
      ]
    },
    {
      "cell_type": "markdown",
      "metadata": {
        "id": "5A6W9JzmPdS3"
      },
      "source": [
        "Now, we accomplish Steps 1-4 from above."
      ]
    },
    {
      "cell_type": "code",
      "execution_count": 22,
      "metadata": {
        "id": "Dr2iHJpX_WI-"
      },
      "outputs": [],
      "source": [
        "# Step 1: Define training parameters\n",
        "torch.manual_seed(random_seed)\n",
        "learning_rate = 1e-16 # Start with low learning rate\n",
        "num_epochs = 300 # Choose number that suits you # Epochs is the number of times we cycle through the entire dataset when training. Similar to 'num_steps' above."
      ]
    },
    {
      "cell_type": "code",
      "execution_count": 23,
      "metadata": {
        "id": "R768SXHN-PEV"
      },
      "outputs": [],
      "source": [
        "# Step 2: Create your model using nn.Linear, starting with our random model weights\n",
        "# Do not include a bias term, because it's included in polynomialization portion.\n",
        "\n",
        "model = nn.Linear(num_weights, 1, bias=False)"
      ]
    },
    {
      "cell_type": "markdown",
      "metadata": {
        "id": "yKBcVTH9YaJM"
      },
      "source": [
        "> **Question 4b) What is your activation function for this neural network?**\n",
        "\n",
        "It is the identity function"
      ]
    },
    {
      "cell_type": "code",
      "execution_count": 24,
      "metadata": {
        "id": "RDVXbW6ZG6DJ"
      },
      "outputs": [
        {
          "name": "stdout",
          "output_type": "stream",
          "text": [
            "Random weights: [ 1  2  4 10]\n"
          ]
        }
      ],
      "source": [
        "# Step 2a: Add randomly initialized weights to our model\n",
        "# (typically this is not necessary, but aligns this problem more closely with Section 3)\n",
        "weights = initialize_model(num_weights=num_weights)\n",
        "print(f\"Random weights: {weights}\")\n",
        "model.weight.data = torch.from_numpy(weights).to(torch.float)"
      ]
    },
    {
      "cell_type": "code",
      "execution_count": 25,
      "metadata": {
        "id": "QnvxBU2d-saw"
      },
      "outputs": [],
      "source": [
        "# Step 3: Define loss function and optimizer from relevant pytorch classes.\n",
        "# Note, we will want to use Stochastic Gradient Descent for the pytorch implementation\n",
        "\n",
        "criterion = nn.MSELoss() # Your code here\n",
        "optimizer = optim.SGD(lr= learning_rate, params = model.parameters()) # Your code here"
      ]
    },
    {
      "cell_type": "code",
      "execution_count": 26,
      "metadata": {
        "id": "q5S4HHDy_cIV"
      },
      "outputs": [],
      "source": [
        "# Step 4: Create the training loop\n",
        "def train(dataset, model, optimizer, num_epochs, batch_size=None):\n",
        "  # Your code here\n",
        "  losses = []\n",
        "  # X_train, y_train = zip(*dataset)\n",
        "  # X_train = torch.stack(X_train)\n",
        "  # y_train = torch.stack(y_train)\n",
        "\n",
        "  # for _ in range(num_epochs):\n",
        "  #   # forward pass: compute predictions and loss\n",
        "  #   y_pred = model(X_train)\n",
        "  #   loss = criterion(y_pred, y_train)\n",
        "\n",
        "  #   # backward step: do gradient descent and back propogation to update weights\n",
        "  #   optimizer.zero_grad()\n",
        "  #   loss.backward()\n",
        "  #   optimizer.step()\n",
        "  #   losses.append(loss.detach().numpy())\n",
        "  train_loader = DataLoader(dataset, batch_size=batch_size)\n",
        "\n",
        "  for epoch in range(num_epochs):\n",
        "    for X_batch, y_batch in train_loader:\n",
        "      y_pred = model(X_batch)\n",
        "      loss = criterion(y_pred, y_batch)\n",
        "\n",
        "      # Backward pass: update weights\n",
        "      optimizer.zero_grad()\n",
        "      loss.backward()\n",
        "      optimizer.step()\n",
        "    losses.append(loss.item())\n",
        "  return losses"
      ]
    },
    {
      "cell_type": "markdown",
      "metadata": {
        "id": "zEf_tBC-Pu0s"
      },
      "source": [
        "Now call your train function. We need to convert our dataset from numpy to torch datatypes."
      ]
    },
    {
      "cell_type": "code",
      "execution_count": 27,
      "metadata": {
        "id": "t-s_TDg0LFO_"
      },
      "outputs": [],
      "source": [
        "# Step 5: Create a train-test split\n",
        "def train_test_split(X, y, train_ratio=0.8):\n",
        "  # Your code here\n",
        "  X = torch.tensor(X, dtype=torch.float32)\n",
        "  y = torch.tensor(y, dtype=torch.float32)\n",
        "  train_dataset, test_dataset = random_split(TensorDataset(X, y), [train_ratio, 1 - train_ratio])\n",
        "\n",
        "  return train_dataset, test_dataset"
      ]
    },
    {
      "cell_type": "code",
      "execution_count": 28,
      "metadata": {
        "id": "Qp1kn2raY6BZ"
      },
      "outputs": [],
      "source": [
        "# Step 6: Call training loop\n",
        "train_dataset, test_dataset = train_test_split(X_poly, y_measured)\n",
        "losses = train(train_dataset, model, optimizer, num_epochs)"
      ]
    },
    {
      "cell_type": "markdown",
      "metadata": {
        "id": "5QdsZub-P8Xa"
      },
      "source": [
        "Let's visualize the results"
      ]
    },
    {
      "cell_type": "code",
      "execution_count": 29,
      "metadata": {
        "id": "OFA3w0KNEFrT"
      },
      "outputs": [
        {
          "data": {
            "text/plain": [
              "[<matplotlib.lines.Line2D at 0x207c4ee4140>]"
            ]
          },
          "execution_count": 29,
          "metadata": {},
          "output_type": "execute_result"
        },
        {
          "data": {
            "image/png": "[encoded data removed]",
            "text/plain": [
              "<Figure size 640x480 with 1 Axes>"
            ]
          },
          "metadata": {},
          "output_type": "display_data"
        }
      ],
      "source": [
        "plt.plot(np.arange(len(losses)), losses, label='Loss Plot', color='blue')"
      ]
    },
    {
      "cell_type": "code",
      "execution_count": 30,
      "metadata": {
        "id": "Ouy2YR_VFe3C"
      },
      "outputs": [
        {
          "data": {
            "image/png": "[encoded data removed]",
            "text/plain": [
              "<Figure size 640x480 with 1 Axes>"
            ]
          },
          "metadata": {},
          "output_type": "display_data"
        }
      ],
      "source": [
        "# Plot data and predictions\n",
        "# your code here\n",
        "X_poly_tensor = torch.tensor(X_poly, dtype=torch.float32)\n",
        "predictions = model(X_poly_tensor)\n",
        "with torch.no_grad():\n",
        "    plt.scatter(x, y_measured, label=\"Original Data\")\n",
        "    plt.scatter(x, predictions.numpy(), color=\"red\", label=\"Fitted Polynomial\")\n",
        "    plt.legend()\n",
        "    plt.title(\"Polynomial Regression with PyTorch\")\n",
        "    plt.xlabel(\"x\")\n",
        "    plt.ylabel(\"y\")\n",
        "    plt.show()"
      ]
    },
    {
      "cell_type": "markdown",
      "metadata": {
        "id": "9OTtMSu6VV-Q"
      },
      "source": [
        "Report your results on the test test. Write an evaluation function that evaluates your model performance."
      ]
    },
    {
      "cell_type": "code",
      "execution_count": 31,
      "metadata": {
        "id": "Jzx0DLzjVZQh"
      },
      "outputs": [],
      "source": [
        "def evaluate(test_dataset, model, criterion):\n",
        "    # Set the model to evaluation mode\n",
        "    model.eval()\n",
        "\n",
        "    # Your code here\n",
        "    # X_test, y_test = zip(*test_dataset)\n",
        "    # X_test = torch.stack(X_test)\n",
        "    # y_test = torch.stack(y_test)\n",
        "    for X_test, y_test in test_dataset:\n",
        "    \n",
        "        predictions = model(X_test)\n",
        "        test_loss = criterion(predictions, y_test)\n",
        "    print(f\"Test MSE Loss: {test_loss.item():.4f}\")\n",
        "    return test_loss.item()"
      ]
    },
    {
      "cell_type": "code",
      "execution_count": 32,
      "metadata": {
        "id": "JB1I2gR1V4e6"
      },
      "outputs": [
        {
          "name": "stdout",
          "output_type": "stream",
          "text": [
            "Test MSE Loss: 2022811753250816.0000\n"
          ]
        },
        {
          "data": {
            "text/plain": [
              "2022811753250816.0"
            ]
          },
          "execution_count": 32,
          "metadata": {},
          "output_type": "execute_result"
        }
      ],
      "source": [
        "# Step 7: Evaluate model\n",
        "evaluate(test_dataset, model, criterion)"
      ]
    },
    {
      "cell_type": "markdown",
      "metadata": {
        "id": "1wyVVIioWBhz"
      },
      "source": [
        "Sometimes loss can be hard to interpret. How close are your model parameters to the true paramters?"
      ]
    },
    {
      "cell_type": "code",
      "execution_count": 33,
      "metadata": {
        "id": "UEUgdUoPV8Vs"
      },
      "outputs": [
        {
          "name": "stdout",
          "output_type": "stream",
          "text": [
            "Actual model parameters: [8 8 9 8]\n",
            "Trained model parameters: [ 7.3814135  6.3745594  3.992787  10.       ]\n"
          ]
        }
      ],
      "source": [
        "print(f\"Actual model parameters: {true_weights}\")\n",
        "print(f\"Trained model parameters: {model.weight.data.numpy()}\")\n",
        "\n",
        "assert np.isclose(model.weight.data.numpy()[0], true_weights[0], rtol=1)"
      ]
    },
    {
      "cell_type": "markdown",
      "metadata": {
        "id": "XtAUovdGTwuj"
      },
      "source": [
        "> **Question 4c) Out of all the model weights, it is likely the case that your trained model's first weight is the closest to the true model parameter. Why might this be the case?**\n",
        "\n",
        "This is because the first weight is the most likely to have the strongest correlation with the target. In this case, we are looking at a polynomial of 3, so the weight corresponding to the x^3 term will have the highest weight."
      ]
    },
    {
      "cell_type": "markdown",
      "metadata": {
        "id": "z4K2eLQmCr42"
      },
      "source": [
        "### 5. **Real world regression task**\n",
        "\n",
        "Let us now apply our knowledge towards a real-world regression task.\n",
        "\n",
        "Our goal in this final section will be to develop a regression model for the California Housing Dataset. A description of the dataset results from running the below cell."
      ]
    },
    {
      "cell_type": "code",
      "execution_count": 34,
      "metadata": {
        "id": "d8gMTGmOWLAV"
      },
      "outputs": [
        {
          "name": "stdout",
          "output_type": "stream",
          "text": [
            ".. _california_housing_dataset:\n",
            "\n",
            "California Housing dataset\n",
            "--------------------------\n",
            "\n",
            "**Data Set Characteristics:**\n",
            "\n",
            ":Number of Instances: 20640\n",
            "\n",
            ":Number of Attributes: 8 numeric, predictive attributes and the target\n",
            "\n",
            ":Attribute Information:\n",
            "    - MedInc        median income in block group\n",
            "    - HouseAge      median house age in block group\n",
            "    - AveRooms      average number of rooms per household\n",
            "    - AveBedrms     average number of bedrooms per household\n",
            "    - Population    block group population\n",
            "    - AveOccup      average number of household members\n",
            "    - Latitude      block group latitude\n",
            "    - Longitude     block group longitude\n",
            "\n",
            ":Missing Attribute Values: None\n",
            "\n",
            "This dataset was obtained from the StatLib repository.\n",
            "https://www.dcc.fc.up.pt/~ltorgo/Regression/cal_housing.html\n",
            "\n",
            "The target variable is the median house value for California districts,\n",
            "expressed in hundreds of thousands of dollars ($100,000).\n",
            "\n",
            "This dataset was derived from the 1990 U.S. census, using one row per census\n",
            "block group. A block group is the smallest geographical unit for which the U.S.\n",
            "Census Bureau publishes sample data (a block group typically has a population\n",
            "of 600 to 3,000 people).\n",
            "\n",
            "A household is a group of people residing within a home. Since the average\n",
            "number of rooms and bedrooms in this dataset are provided per household, these\n",
            "columns may take surprisingly large values for block groups with few households\n",
            "and many empty houses, such as vacation resorts.\n",
            "\n",
            "It can be downloaded/loaded using the\n",
            ":func:`sklearn.datasets.fetch_california_housing` function.\n",
            "\n",
            ".. rubric:: References\n",
            "\n",
            "- Pace, R. Kelley and Ronald Barry, Sparse Spatial Autoregressions,\n",
            "  Statistics and Probability Letters, 33 (1997) 291-297\n",
            "\n",
            "X shape: (20640, 8)\n",
            "y shape: (20640,)\n"
          ]
        }
      ],
      "source": [
        "from sklearn.datasets import fetch_california_housing\n",
        "\n",
        "california = fetch_california_housing()\n",
        "\n",
        "print(california.DESCR)\n",
        "\n",
        "X, y = california.data, california.target\n",
        "\n",
        "print(f\"X shape: {X.shape}\")\n",
        "print(f\"y shape: {y.shape}\")"
      ]
    },
    {
      "cell_type": "markdown",
      "metadata": {
        "id": "b3WIs6xwFUe1"
      },
      "source": [
        "\n",
        "We will not assume our dependent variable has a polynomial relationship on our independent variable.\n",
        "\n",
        "In fact, we will only make a singular, relaxed assumption about the relationship between our dependen target variable (median house value) and the 8 independnet attributes: *That the relationship can be modeled using a multi-layer perceptron (i.e. an articial neural network).*"
      ]
    },
    {
      "cell_type": "markdown",
      "metadata": {
        "id": "qwYPb_hoGxr9"
      },
      "source": [
        "> **Question 5a) Why is a multi-layered perception (MLP) a reasonable choice for our regression model? On the other hand, what will be the MLP's shortcomings for this particular task?**\n",
        "\n",
        "Since there are 8 features and a lot of data, 20640 rows, a neural network is a suitable choice as it works well with large amounts of data and features. However, one big weakness of this model is its lack of intepretability. Compared to a simple linear regression, a neural network is much harder to interpret."
      ]
    },
    {
      "cell_type": "markdown",
      "metadata": {
        "id": "ij5bS88UHQ47"
      },
      "source": [
        "We will follow the same steps as in section 4"
      ]
    },
    {
      "cell_type": "code",
      "execution_count": 35,
      "metadata": {
        "id": "uoHoLYjAEi21"
      },
      "outputs": [],
      "source": [
        "# Step 1: Define training parameters\n",
        "learning_rate = 1e-6\n",
        "num_epochs = 50 # Choose a number # Epochs is the number of times we cycle through the entire dataset when training. Similar to 'num_steps' above.\n",
        "batch_size = 64 # Choose a number # Batch size is the number of data points we aggregate together for a single loss calculation and gradient step"
      ]
    },
    {
      "cell_type": "code",
      "execution_count": 36,
      "metadata": {
        "id": "B5Fui2XLH94P"
      },
      "outputs": [],
      "source": [
        "# Step 2: Create your neural network.\n",
        "# The first layer's input size should be 8.\n",
        "# There should be at least one hidden layer.\n",
        "# All layers should have a bias term (which is the default).\n",
        "# There should be a non-linear activation function for each layer (except the output)\n",
        "# The output size should be 1.\n",
        "# Hint: nn.Sequential may be helpful\n",
        "input_dim = 8\n",
        "output_dim = 1\n",
        "model = nn.Sequential(\n",
        "    nn.Linear(input_dim, 64, bias=True),\n",
        "    nn.ReLU(),\n",
        "    nn.Linear(64, 32, bias=True),\n",
        "    nn.ReLU(),\n",
        "    nn.Linear(32, 8, bias=True),\n",
        "    nn.ReLU(),\n",
        "    nn.Linear(8, output_dim)\n",
        ")"
      ]
    },
    {
      "cell_type": "markdown",
      "metadata": {
        "id": "LO3-atXXKFIM"
      },
      "source": [
        "> **Question 5b) What is your rationale for your architecture?**\n",
        "\n",
        "I wanted the first layer to be able to extract as many important features as possible, scaling the data up from 8 to 64. Then, the model will gradually reduce the features from 64 to 32 to 8 to 1. This progressively extracts higher level feature representations from the input data, allowint the model to learn complex patterns. I also chose ReLU because it introduces non-linearity, and it is a popular choice as its main benefits are sparsity and a reduced likelyhood of obtaining a vanishing gradient."
      ]
    },
    {
      "cell_type": "code",
      "execution_count": 37,
      "metadata": {
        "id": "e5CX7y1EJQ_N"
      },
      "outputs": [],
      "source": [
        "# Step 3: Define loss function and optimizer from relevant pytorch classes.\n",
        "criterion = nn.MSELoss()\n",
        "optimizer = optim.Adam(params = model.parameters(), lr = learning_rate)"
      ]
    },
    {
      "cell_type": "code",
      "execution_count": 38,
      "metadata": {
        "id": "w37vFJp7Jr_O"
      },
      "outputs": [],
      "source": [
        "# Step 4: Create training loop. Feel free to rewrite Step 4 from Section 4.\n",
        "# However, if the train() function from Section 4 was robustly implemented, it should work for this problem also.\n",
        "\n",
        "def train(train_dataset, model, optimizer, num_epochs, batch_size):\n",
        "    losses = []\n",
        "    model.train(True)\n",
        "    dataset = DataLoader(train_dataset, batch_size=batch_size)\n",
        "\n",
        "    for epoch in range(num_epochs):\n",
        "        epoch_losses = 0\n",
        "        count = 0\n",
        "        for data in dataset:\n",
        "            X_batch, y_batch = data\n",
        "            # forward pass\n",
        "            y_pred = model(X_batch)\n",
        "            loss = criterion(y_pred, y_batch)\n",
        "\n",
        "            # backward pass\n",
        "            optimizer.zero_grad()\n",
        "            loss.backward()\n",
        "            optimizer.step()\n",
        "\n",
        "            epoch_losses += loss.item()\n",
        "            count += 1\n",
        "\n",
        "        losses.append(epoch_losses / count)\n",
        "        if epoch % 10 == 0:\n",
        "            print(\"Epoch: {} Loss: {}\".format(epoch, epoch_losses / count))\n",
        "    \n",
        "    return losses"
      ]
    },
    {
      "cell_type": "code",
      "execution_count": 39,
      "metadata": {
        "id": "AJ4MXXltKcqI"
      },
      "outputs": [],
      "source": [
        "# Step 5: train_test_split the data Feel free to rewrite Step 5 from Section 4.\n",
        "# However, if the train_test_split() function from Section 4 was robustly implemented, it should work for this problem also.\n",
        "def train_test_split(X, y, train_ratio=0.8):\n",
        "  # Your code here\n",
        "  X = torch.tensor(X, dtype=torch.float32)\n",
        "  y = torch.tensor(y, dtype=torch.float32)\n",
        "  train_dataset, test_dataset = random_split(TensorDataset(X, y), [train_ratio, 1 - train_ratio])\n",
        "\n",
        "  return train_dataset, test_dataset"
      ]
    },
    {
      "cell_type": "code",
      "execution_count": 40,
      "metadata": {
        "id": "Ur095DZ-NkG2"
      },
      "outputs": [
        {
          "name": "stderr",
          "output_type": "stream",
          "text": [
            "d:\\02Apps\\Anaconda\\envs\\test\\Lib\\site-packages\\torch\\nn\\modules\\loss.py:608: UserWarning: Using a target size (torch.Size([64])) that is different to the input size (torch.Size([64, 1])). This will likely lead to incorrect results due to broadcasting. Please ensure they have the same size.\n",
            "  return F.mse_loss(input, target, reduction=self.reduction)\n",
            "d:\\02Apps\\Anaconda\\envs\\test\\Lib\\site-packages\\torch\\nn\\modules\\loss.py:608: UserWarning: Using a target size (torch.Size([1])) that is different to the input size (torch.Size([1, 1])). This will likely lead to incorrect results due to broadcasting. Please ensure they have the same size.\n",
            "  return F.mse_loss(input, target, reduction=self.reduction)\n"
          ]
        },
        {
          "name": "stdout",
          "output_type": "stream",
          "text": [
            "Epoch: 0 Loss: 311.27899281214565\n",
            "Epoch: 10 Loss: 47.229558184685395\n",
            "Epoch: 20 Loss: 2.991672299543403\n",
            "Epoch: 30 Loss: 1.5186936326008507\n",
            "Epoch: 40 Loss: 1.4262472713315808\n"
          ]
        }
      ],
      "source": [
        "# Step 6: Call training loop. It might take a minute or so to train.\n",
        "train_dataset, test_dataset = train_test_split(X, y)\n",
        "losses = train(train_dataset, model, optimizer, num_epochs, batch_size=batch_size)"
      ]
    },
    {
      "cell_type": "markdown",
      "metadata": {
        "id": "JeYKXhQ4QIQd"
      },
      "source": [
        "Let's visualize our loss"
      ]
    },
    {
      "cell_type": "code",
      "execution_count": 41,
      "metadata": {
        "id": "FBPBFZrqNmZZ"
      },
      "outputs": [
        {
          "data": {
            "text/plain": [
              "[<matplotlib.lines.Line2D at 0x207c50da9f0>]"
            ]
          },
          "execution_count": 41,
          "metadata": {},
          "output_type": "execute_result"
        },
        {
          "data": {
            "image/png": "[encoded data removed]",
            "text/plain": [
              "<Figure size 640x480 with 1 Axes>"
            ]
          },
          "metadata": {},
          "output_type": "display_data"
        }
      ],
      "source": [
        "plt.plot(np.arange(len(losses)), losses, label='Loss Plot', color='blue')"
      ]
    },
    {
      "cell_type": "markdown",
      "metadata": {
        "id": "ifnaCOj-W31z"
      },
      "source": [
        "Let's visualize how our predictions look compared to the targets. Obviously, we cannot use all 8 independent variables for our scatter plot, so we will have to pick one feature as our independent variable in the scatter plot."
      ]
    },
    {
      "cell_type": "code",
      "execution_count": 42,
      "metadata": {
        "id": "7H-cHS_tUT9m"
      },
      "outputs": [
        {
          "name": "stderr",
          "output_type": "stream",
          "text": [
            "d:\\02Apps\\Anaconda\\envs\\test\\Lib\\site-packages\\torch\\nn\\modules\\loss.py:608: UserWarning: Using a target size (torch.Size([])) that is different to the input size (torch.Size([1])). This will likely lead to incorrect results due to broadcasting. Please ensure they have the same size.\n",
            "  return F.mse_loss(input, target, reduction=self.reduction)\n"
          ]
        },
        {
          "name": "stdout",
          "output_type": "stream",
          "text": [
            "Test MSE Loss: 0.4564\n"
          ]
        }
      ],
      "source": [
        "# Step 7: Evaluate model\n",
        "test_result = evaluate(test_dataset, model, criterion)\n",
        "\n",
        "assert test_result < 0.6"
      ]
    },
    {
      "cell_type": "markdown",
      "metadata": {
        "id": "rlZdaVyzJqz1"
      },
      "source": [
        "Let's contexualize our results, as raw regression loss can be difficult to interpret.\n",
        "\n",
        "One way we can qualitatively check the performance of our neural network is by comparing the distribution of our predictions to the target values. Some may call this the 'eye-ball' test, or a 'sanity check' on our neural network. Ideally, these distributions should be quite similar. This indicates, to some degree, that our neural network is learning the conditional probability of y given the attributes X.\n",
        "\n",
        "Let's compare our predictions to the the training and test targets below.\n"
      ]
    },
    {
      "cell_type": "code",
      "execution_count": 43,
      "metadata": {
        "id": "bdiQ3SdJPgQf"
      },
      "outputs": [
        {
          "data": {
            "image/png": "[encoded data removed]",
            "text/plain": [
              "<Figure size 800x600 with 1 Axes>"
            ]
          },
          "metadata": {},
          "output_type": "display_data"
        }
      ],
      "source": [
        "# Plot your training predictions and target values as overlaid histograms.\n",
        "# Ensure that the x-range of the hists are identical for adequate comparison.\n",
        "X_train, y_train = zip(*train_dataset)\n",
        "X_train = torch.stack(X_train)\n",
        "y_train = torch.stack(y_train)\n",
        "\n",
        "# Forward pass to get predictions\n",
        "predictions = model(X_train).detach().numpy()\n",
        "\n",
        "# Plot the histograms of y_train and predictions\n",
        "# Your code here\n",
        "plt.figure(figsize=(8, 6))\n",
        "plt.hist(y_train, bins=30, alpha=0.5, label=\"Target: y_train\", color=\"blue\")\n",
        "plt.hist(predictions, bins=30, alpha=0.5, label=\"Predictions\", color=\"orange\")\n",
        "plt.xlabel(\"Value\")\n",
        "plt.ylabel(\"Frequency\")\n",
        "plt.title(\"Training Predictions vs Target Values\")\n",
        "plt.legend()\n",
        "plt.show()"
      ]
    },
    {
      "cell_type": "code",
      "execution_count": 44,
      "metadata": {
        "id": "F2ZTxFPEKhE3"
      },
      "outputs": [
        {
          "data": {
            "image/png": "[encoded data removed]",
            "text/plain": [
              "<Figure size 800x600 with 1 Axes>"
            ]
          },
          "metadata": {},
          "output_type": "display_data"
        }
      ],
      "source": [
        "# Plot your test predictions and target values as overlaid histograms.\n",
        "# Ensure that the x-range of the hists are identical for adequate comparison.\n",
        "X_test, y_test = zip(*test_dataset)\n",
        "X_test = torch.stack(X_test)\n",
        "y_test = torch.stack(y_test)\n",
        "\n",
        "# Forward pass to get predictions\n",
        "predictions = model(X_test).detach().numpy()\n",
        "\n",
        "# Plot the histograms of y_test and test predictions\n",
        "# Your code here\n",
        "plt.figure(figsize=(8, 6))\n",
        "plt.hist(y_test, bins=30, alpha=0.5, label=\"Target: y_test\", color=\"blue\")\n",
        "plt.hist(predictions, bins=30, alpha=0.5, label=\"Predictions\", color=\"orange\")\n",
        "plt.xlabel(\"Value\")\n",
        "plt.ylabel(\"Frequency\")\n",
        "plt.title(\"Test Predictions vs Target Values\")\n",
        "plt.legend()\n",
        "plt.show()"
      ]
    },
    {
      "cell_type": "markdown",
      "metadata": {
        "id": "6TmYo4e3PQJH"
      },
      "source": [
        "> **Question 5c) Describe the difference in distributions between your predictions and targets on the training and test sets. Does this seem reasonable? Are there differences in how your neural network predictions perform on the training vs test tests?**\n",
        "\n",
        "The distributions in the my predictions and targets on the training and test sets were not ideal. They are too concentrated around the 1.5 to 2.5 region, which should not be happening. However, the neural network performs better against the test set compared to the train set due to the lower frequency gathered around the aforementioned region. I have tried editing my model's parameters, but none of them seemed to help adjust the predictions and region much."
      ]
    },
    {
      "cell_type": "markdown",
      "metadata": {
        "id": "NhwTizBnQKVw"
      },
      "source": [
        "Let's get a quantitative measure of our test performance. We can calculate the $R^2$ measure of our predictions compared to test target values."
      ]
    },
    {
      "cell_type": "markdown",
      "metadata": {
        "id": "rCeHopuMQ8yB"
      },
      "source": [
        "> **Question 5d) Explain what the $R^2$ metric measures? Report it for your model below**\n",
        "\n",
        "$R^2$ is a statistical measure in a regression model that determines the proportion of variance in the dependent variable that can be explained by the independent variable. It shows how well the data fit the regression model."
      ]
    },
    {
      "cell_type": "code",
      "execution_count": 47,
      "metadata": {
        "id": "ClB7062SOJYn"
      },
      "outputs": [
        {
          "name": "stdout",
          "output_type": "stream",
          "text": [
            "R^2: -0.01971292495727539\n"
          ]
        }
      ],
      "source": [
        "# Report R^2 here\n",
        "from sklearn.metrics import r2_score\n",
        "r2 = r2_score(\n",
        "    y_test, predictions\n",
        ")\n",
        "print(f\"R^2: {r2}\")"
      ]
    },
    {
      "cell_type": "markdown",
      "metadata": {
        "id": "DwkruwfeRSKC"
      },
      "source": [
        "Congrats, you finished your first assignment! Feel free to try different architectures, hyperparameters, feature engineering approaches (i.e. standardizing your features), etc... to try to improve your neural network performance. Improving neural network performance is often an emprical process of trying out different configurations."
      ]
    }
  ],
  "metadata": {
    "colab": {
      "provenance": []
    },
    "kernelspec": {
      "display_name": "test",
      "language": "python",
      "name": "python3"
    },
    "language_info": {
      "codemirror_mode": {
        "name": "ipython",
        "version": 3
      },
      "file_extension": ".py",
      "mimetype": "text/x-python",
      "name": "python",
      "nbconvert_exporter": "python",
      "pygments_lexer": "ipython3",
      "version": "3.12.7"
    }
  },
  "nbformat": 4,
  "nbformat_minor": 0
}
